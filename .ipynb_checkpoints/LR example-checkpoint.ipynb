{
 "cells": [
  {
   "cell_type": "code",
   "execution_count": 1,
   "metadata": {},
   "outputs": [],
   "source": [
    "import numpy as np"
   ]
  },
  {
   "cell_type": "markdown",
   "metadata": {},
   "source": [
    "### Sigmoid function"
   ]
  },
  {
   "cell_type": "code",
   "execution_count": 2,
   "metadata": {},
   "outputs": [],
   "source": [
    "def sigmoid(z):\n",
    "    return 1 / (1 + np.exp(-z))"
   ]
  },
  {
   "cell_type": "code",
   "execution_count": 3,
   "metadata": {},
   "outputs": [],
   "source": [
    "class LogisticClassifier:\n",
    "    def __init__(self, learning_rate=0.1, tolerance=1e-4, max_iter=1000):\n",
    "        # gradient descent parameters\n",
    "        self.learning_rate = float(learning_rate)\n",
    "        self.tolerance = float(tolerance)\n",
    "        self.max_iter = int(max_iter)\n",
    "        \n",
    "        # how to construct a the design matrix\n",
    "        self.add_intercept = True\n",
    "        self.center = True\n",
    "        self.scale = True\n",
    "        \n",
    "        self.training_loss_history = []\n",
    "\n",
    "    def _design_matrix(self, X):\n",
    "        if self.center:\n",
    "            X = X - self.means\n",
    "        if self.scale:\n",
    "            X = X / self.standard_error\n",
    "        if self.add_intercept:\n",
    "            X = np.hstack([ np.ones((X.shape[0], 1)), X])\n",
    "            \n",
    "        return X\n",
    "\n",
    "    def fit_center_scale(self, X):\n",
    "        self.means = X.mean(axis=0)\n",
    "        self.standard_error = np.std(X, axis=0)\n",
    "    \n",
    "    def fit(self, X, y):\n",
    "        self.fit_center_scale(X)\n",
    "        \n",
    "        # add intercept column to the design matrix\n",
    "        n, k = X.shape\n",
    "        X = self._design_matrix(X)\n",
    "        \n",
    "        # used for the convergence check\n",
    "        previous_loss = -float('inf')\n",
    "        self.converged = False\n",
    "        \n",
    "        # initialize parameters\n",
    "        self.beta = np.zeros(k + (1 if self.add_intercept else 0))\n",
    "        \n",
    "        for i in range(self.max_iter):\n",
    "            y_hat = sigmoid(X @ self.beta)\n",
    "            self.loss = np.mean(-y * np.log(y_hat) - (1-y) * np.log(1-y_hat))\n",
    "\n",
    "            # convergence check\n",
    "            if abs(previous_loss - self.loss) < self.tolerance:\n",
    "                self.converged = True\n",
    "                break\n",
    "            else:\n",
    "                previous_loss = self.loss\n",
    "\n",
    "            # gradient descent\n",
    "            residuals = (y_hat - y).reshape( (n, 1) )\n",
    "            gradient = (X * residuals).mean(axis=0)\n",
    "            self.beta -= self.learning_rate * gradient\n",
    "        \n",
    "        self.iterations = i+1\n",
    "        \n",
    "    def predict_proba(self, X):\n",
    "        # add intercept column to the design matrix\n",
    "        X = self._design_matrix(X)\n",
    "        return sigmoid(X @ self.beta)   \n",
    "        \n",
    "    def predict(self, X):\n",
    "        return (self.predict_proba(X) > 0.5).astype(int)"
   ]
  },
  {
   "cell_type": "code",
   "execution_count": 4,
   "metadata": {},
   "outputs": [],
   "source": [
    "# dependencies for testing and evaluating the model\n",
    "from sklearn.datasets import load_breast_cancer\n",
    "from sklearn.metrics import confusion_matrix, accuracy_score, roc_auc_score, roc_curve\n",
    "import matplotlib.pyplot as plt\n",
    "\n",
    "from sklearn.datasets import load_breast_cancer\n",
    "from sklearn.metrics import confusion_matrix, accuracy_score, roc_auc_score, roc_curve\n",
    "import matplotlib.pyplot as plt\n",
    "%matplotlib inline"
   ]
  },
  {
   "cell_type": "code",
   "execution_count": null,
   "metadata": {},
   "outputs": [],
   "source": []
  }
 ],
 "metadata": {
  "kernelspec": {
   "display_name": "Python 3",
   "language": "python",
   "name": "python3"
  },
  "language_info": {
   "codemirror_mode": {
    "name": "ipython",
    "version": 3
   },
   "file_extension": ".py",
   "mimetype": "text/x-python",
   "name": "python",
   "nbconvert_exporter": "python",
   "pygments_lexer": "ipython3",
   "version": "3.7.3"
  }
 },
 "nbformat": 4,
 "nbformat_minor": 2
}
